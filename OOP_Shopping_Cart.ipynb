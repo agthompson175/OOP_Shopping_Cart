{
 "cells": [
  {
   "cell_type": "code",
   "execution_count": 15,
   "id": "b3954e7a",
   "metadata": {},
   "outputs": [
    {
     "name": "stdout",
     "output_type": "stream",
     "text": [
      "BUY STUFF PLEASE\n",
      "    \n",
      "Type 'add' to add new item to your bag.\n",
      "Type 'remove' to remove the last item from your bag\n",
      "Type 'quit' to exit the program.\n",
      "Type 'show' to list all items in your cart\n",
      "What is your choice? quit\n",
      "499 X Cat: $399.99 \n",
      "Are are you sure you want to quit? Y/N? y\n",
      "499 X Cat: $399.99 \n",
      "==============================\n",
      "Shopping Cart Total:  $199595.01\n"
     ]
    }
   ],
   "source": [
    "from IPython.display import clear_output as co\n",
    "\n",
    "\n",
    "\n",
    "\n",
    "    \n",
    "class isItem:\n",
    "    def __init__(self, name, price, amount):\n",
    "        self.name = name\n",
    "        self.price=price\n",
    "        self.amount=amount\n",
    "    def __repr__(self):\n",
    "        return f'{self.amount} X {self.name}: ${self.price} '\n",
    "\n",
    "class ShoppingCart:\n",
    "    def __init__(self):\n",
    "        self.info = []\n",
    "    def show_instructions():\n",
    "        print(\"\"\"BUY STUFF PLEASE\n",
    "Type 'add' to add new item to your bag.\n",
    "Type 'remove' to remove the last item from your bag\n",
    "Type 'quit' to exit the program.\n",
    "Type 'show' to list all items in your cart\"\"\")\n",
    "\n",
    "    @classmethod\n",
    "    def run(self):\n",
    "        done = False\n",
    "        info = []\n",
    "        while not done:\n",
    "            co()\n",
    "\n",
    "            show_instructions()\n",
    "            choice = input('What is your choice? ')\n",
    "\n",
    "            if choice == 'add':\n",
    "\n",
    "                name = input(\"Type in the item you wish to purchase. \").title()\n",
    "                price =  input(\"Type in the items price. \").title()\n",
    "                amount = input('How many?')\n",
    "                item = isItem(name, price, amount)\n",
    "                info.append(item)\n",
    "\n",
    "            elif choice == 'show':\n",
    "                total=0\n",
    "                for item in info:\n",
    "                    total+=(float(item.amount) * float(item.price))\n",
    "                    print(item)\n",
    "                print('==============================\\nShopping Cart Total:  $' + str(total))\n",
    "                input('Press any key continue')\n",
    "\n",
    "            elif choice == 'quit':\n",
    "                for item in info:\n",
    "                    print(item)\n",
    "                confirm = input('Are are you sure you want to quit? Y/N? ').lower()\n",
    "                if confirm == 'y':\n",
    "                    total=0\n",
    "                    for item in info:\n",
    "                        total+=(float(item.amount) * float(item.price))\n",
    "                        print(item)\n",
    "                    print('==============================\\nShopping Cart Total:  $' + str(total))\n",
    "                    done = True\n",
    "                elif confirm == 'n':\n",
    "                    continue\n",
    "\n",
    "            elif choice == 'remove':\n",
    "                removed = input('Type in the name of item to be removed? ').title()\n",
    "                info.pop()\n",
    "    \n",
    "ShoppingCart.run()\n",
    "\n",
    "#make cart object with info list instead of just info "
   ]
  },
  {
   "cell_type": "code",
   "execution_count": null,
   "id": "158726bb",
   "metadata": {},
   "outputs": [],
   "source": []
  },
  {
   "cell_type": "code",
   "execution_count": null,
   "id": "6d283a9d",
   "metadata": {},
   "outputs": [],
   "source": []
  },
  {
   "cell_type": "code",
   "execution_count": null,
   "id": "0811fd7e",
   "metadata": {},
   "outputs": [],
   "source": []
  },
  {
   "cell_type": "code",
   "execution_count": null,
   "id": "a5c78a82",
   "metadata": {},
   "outputs": [],
   "source": []
  },
  {
   "cell_type": "code",
   "execution_count": null,
   "id": "51518fe0",
   "metadata": {},
   "outputs": [],
   "source": []
  },
  {
   "cell_type": "code",
   "execution_count": null,
   "id": "66389cbd",
   "metadata": {},
   "outputs": [],
   "source": []
  },
  {
   "cell_type": "code",
   "execution_count": null,
   "id": "fc9f7741",
   "metadata": {},
   "outputs": [],
   "source": [
    "\n",
    "\n"
   ]
  },
  {
   "cell_type": "code",
   "execution_count": null,
   "id": "60be806b",
   "metadata": {},
   "outputs": [],
   "source": []
  },
  {
   "cell_type": "code",
   "execution_count": null,
   "id": "aab8c84c",
   "metadata": {},
   "outputs": [],
   "source": [
    "\n"
   ]
  },
  {
   "cell_type": "code",
   "execution_count": null,
   "id": "9e3e4ed9",
   "metadata": {},
   "outputs": [],
   "source": []
  },
  {
   "cell_type": "code",
   "execution_count": null,
   "id": "5d4749b4",
   "metadata": {},
   "outputs": [],
   "source": []
  }
 ],
 "metadata": {
  "kernelspec": {
   "display_name": "Python 3",
   "language": "python",
   "name": "python3"
  },
  "language_info": {
   "codemirror_mode": {
    "name": "ipython",
    "version": 3
   },
   "file_extension": ".py",
   "mimetype": "text/x-python",
   "name": "python",
   "nbconvert_exporter": "python",
   "pygments_lexer": "ipython3",
   "version": "3.9.5"
  }
 },
 "nbformat": 4,
 "nbformat_minor": 5
}
